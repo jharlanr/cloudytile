{
 "cells": [
  {
   "cell_type": "code",
   "execution_count": 1,
   "id": "7bc7bdd6-dcde-4354-8173-3959eaaf2011",
   "metadata": {
    "tags": []
   },
   "outputs": [],
   "source": [
    "import os\n",
    "import pandas as pd\n",
    "import numpy as np\n",
    "import matplotlib.pyplot as plt\n",
    "from PIL import Image\n",
    "import torch\n",
    "import torch.nn as nn\n",
    "import torch.optim as optim\n",
    "from torch.utils.data import Dataset, DataLoader, random_split\n",
    "import torchvision.transforms as transforms\n",
    "\n"
   ]
  },
  {
   "cell_type": "code",
   "execution_count": 26,
   "id": "6cfac50f-97cd-4353-8540-601240fc68be",
   "metadata": {
    "tags": []
   },
   "outputs": [],
   "source": [
    "# Configuration\n",
    "csv_file = \"/home/jupyter/repos/cloudytile/sandbox/labels.csv\"          # Path to your CSV\n",
    "img_dir = \"/home/jupyter/repos/cloudytile/data/2019cw_pngs/\"       # Directory containing PNGs\n",
    "\n"
   ]
  },
  {
   "cell_type": "code",
   "execution_count": 22,
   "id": "1b1d96a9-5d65-4d64-84d1-8a49dad92847",
   "metadata": {
    "tags": []
   },
   "outputs": [],
   "source": [
    "# 1) Dataset Definition\n",
    "class PNGDataset(Dataset):\n",
    "    def __init__(self, csv_file, img_dir, transform=None):\n",
    "        self.df = pd.read_csv(csv_file)\n",
    "        self.img_dir = img_dir\n",
    "        self.transform = transform\n",
    "\n",
    "    def __len__(self):\n",
    "        return len(self.df)\n",
    "\n",
    "    def __getitem__(self, idx):\n",
    "        row = self.df.iloc[idx]\n",
    "        img_path = os.path.join(self.img_dir, row[\"filename\"])\n",
    "        image = Image.open(img_path).convert(\"RGB\")\n",
    "        if self.transform:\n",
    "            image = self.transform(image)\n",
    "        label = torch.tensor(row[\"label_num\"], dtype=torch.float32)\n",
    "        return image, label\n",
    "\n",
    "# 2) Transforms\n",
    "img_size = (128,128)\n",
    "transform = transforms.Compose([\n",
    "    transforms.Resize(img_size),\n",
    "    transforms.ToTensor(),\n",
    "    transforms.Normalize(mean=[0.5]*3, std=[0.5]*3)\n",
    "])\n",
    "\n",
    "\n",
    "\n",
    "    \n",
    "    "
   ]
  },
  {
   "cell_type": "code",
   "execution_count": 69,
   "id": "0899aad4-1d8d-4f84-8653-843fd0e22839",
   "metadata": {
    "tags": []
   },
   "outputs": [],
   "source": [
    "batch_size = 100\n",
    "learning_rate = 0.001\n",
    "num_epochs = 100\n",
    "img_size = (128, 128)"
   ]
  },
  {
   "cell_type": "code",
   "execution_count": 70,
   "id": "bc5f3686-1cde-41e3-939b-35a9764fc2c6",
   "metadata": {
    "tags": []
   },
   "outputs": [],
   "source": [
    "# 3) DataLoaders\n",
    "dataset = PNGDataset(csv_file, img_dir, transform)\n",
    "train_size = int(0.8 * len(dataset))\n",
    "val_size = len(dataset) - train_size\n",
    "train_ds, val_ds = random_split(dataset, [train_size, val_size])\n",
    "train_loader = DataLoader(train_ds, batch_size=batch_size, shuffle=True)\n",
    "val_loader = DataLoader(val_ds, batch_size=batch_size, shuffle=False)\n",
    "\n",
    "\n"
   ]
  },
  {
   "cell_type": "code",
   "execution_count": 71,
   "id": "c005983e-82c7-4ae4-8c5b-d837325a604e",
   "metadata": {
    "tags": []
   },
   "outputs": [
    {
     "data": {
      "image/png": "[encoded data removed]",
      "text/plain": [
       "<Figure size 640x480 with 1 Axes>"
      ]
     },
     "metadata": {},
     "output_type": "display_data"
    }
   ],
   "source": [
    "idx_img = 1\n",
    "\n",
    "# 1) grab your batch\n",
    "images, labels = next(iter(val_loader))\n",
    "\n",
    "# 2) take the first image tensor\n",
    "img = images[idx_img].cpu().detach()   # shape (3, H, W)\n",
    "\n",
    "# 3) UN-normalize:  x_orig = x_norm * std + mean\n",
    "img = img * 0.5 + 0.5\n",
    "\n",
    "# 4) clamp to [0,1] just to be safe\n",
    "img = img.clamp(0,1)\n",
    "\n",
    "# 5) bring into HWC numpy for plotting\n",
    "img_np = img.permute(1,2,0).numpy()\n",
    "\n",
    "plt.imshow(img_np)\n",
    "plt.title(f\"Label: {labels[idx_img].item()}\")\n",
    "plt.axis(\"off\")\n",
    "plt.show()\n",
    "\n"
   ]
  },
  {
   "cell_type": "code",
   "execution_count": 72,
   "id": "b72d8474-c9dc-42be-9494-491b5c8147e3",
   "metadata": {
    "tags": []
   },
   "outputs": [],
   "source": [
    "# 4) Model Definition\n",
    "class SimpleCNN(nn.Module):\n",
    "    def __init__(self):\n",
    "        super().__init__()\n",
    "        self.features = nn.Sequential(\n",
    "            nn.Conv2d(3, 16, 3, padding=1), nn.ReLU(), nn.MaxPool2d(2),\n",
    "            nn.Conv2d(16, 32, 3, padding=1), nn.ReLU(), nn.MaxPool2d(2),\n",
    "            nn.Conv2d(32, 64, 3, padding=1), nn.ReLU(), nn.MaxPool2d(2)\n",
    "        )\n",
    "        self.classifier = nn.Sequential(\n",
    "            nn.Flatten(),\n",
    "            nn.Linear(64 * (img_size[0]//8) * (img_size[1]//8), 128),\n",
    "            nn.ReLU(),\n",
    "            nn.Linear(128, 1)\n",
    "        )\n",
    "\n",
    "    def forward(self, x):\n",
    "        x = self.features(x)\n",
    "        x = self.classifier(x)\n",
    "        return x.squeeze(1)\n",
    "    "
   ]
  },
  {
   "cell_type": "code",
   "execution_count": 73,
   "id": "b9b83c0a-0da2-46fa-af47-f3e383b246bb",
   "metadata": {
    "tags": []
   },
   "outputs": [],
   "source": [
    "\n",
    "device = torch.device(\"cuda\" if torch.cuda.is_available() else \"cpu\")\n",
    "model = SimpleCNN().to(device)\n",
    "criterion = nn.BCEWithLogitsLoss()\n",
    "optimizer = optim.Adam(model.parameters(), lr=learning_rate)\n",
    "\n"
   ]
  },
  {
   "cell_type": "code",
   "execution_count": null,
   "id": "fe3aed28-75ac-4b1d-8bff-7107bb8b01ac",
   "metadata": {
    "tags": []
   },
   "outputs": [
    {
     "name": "stdout",
     "output_type": "stream",
     "text": [
      "Epoch 1/100 - Loss: 0.5001 - Acc: 0.7534\n",
      " Val  - Loss: 0.3907 - Acc: 0.8554\n",
      "Epoch 2/100 - Loss: 0.3631 - Acc: 0.8396\n",
      " Val  - Loss: 0.3521 - Acc: 0.8614\n",
      "Epoch 3/100 - Loss: 0.3278 - Acc: 0.8533\n",
      " Val  - Loss: 0.3057 - Acc: 0.8554\n",
      "Epoch 4/100 - Loss: 0.2933 - Acc: 0.8578\n",
      " Val  - Loss: 0.2860 - Acc: 0.8614\n",
      "Epoch 5/100 - Loss: 0.2799 - Acc: 0.8578\n",
      " Val  - Loss: 0.2597 - Acc: 0.8675\n",
      "Epoch 6/100 - Loss: 0.2582 - Acc: 0.8638\n",
      " Val  - Loss: 0.2524 - Acc: 0.8614\n",
      "Epoch 7/100 - Loss: 0.2864 - Acc: 0.8366\n",
      " Val  - Loss: 0.2327 - Acc: 0.8614\n",
      "Epoch 8/100 - Loss: 0.2410 - Acc: 0.8578\n",
      " Val  - Loss: 0.2278 - Acc: 0.8614\n",
      "Epoch 9/100 - Loss: 0.2317 - Acc: 0.8714\n",
      " Val  - Loss: 0.2189 - Acc: 0.8614\n",
      "Epoch 10/100 - Loss: 0.2353 - Acc: 0.8820\n",
      " Val  - Loss: 0.2445 - Acc: 0.8313\n",
      "Epoch 11/100 - Loss: 0.7412 - Acc: 0.8064\n",
      " Val  - Loss: 1.2823 - Acc: 0.7169\n",
      "Epoch 12/100 - Loss: 1.1129 - Acc: 0.7595\n",
      " Val  - Loss: 0.3312 - Acc: 0.8494\n",
      "Epoch 13/100 - Loss: 0.3120 - Acc: 0.8563\n",
      " Val  - Loss: 0.2745 - Acc: 0.8614\n",
      "Epoch 14/100 - Loss: 0.2861 - Acc: 0.8548\n",
      " Val  - Loss: 0.2645 - Acc: 0.8614\n",
      "Epoch 15/100 - Loss: 0.2712 - Acc: 0.8578\n",
      " Val  - Loss: 0.2531 - Acc: 0.8735\n",
      "Epoch 16/100 - Loss: 0.2608 - Acc: 0.8699\n",
      " Val  - Loss: 0.2453 - Acc: 0.8614\n",
      "Epoch 17/100 - Loss: 0.2511 - Acc: 0.8623\n",
      " Val  - Loss: 0.2452 - Acc: 0.8494\n",
      "Epoch 18/100 - Loss: 0.2356 - Acc: 0.8865\n",
      " Val  - Loss: 0.2278 - Acc: 0.8614\n",
      "Epoch 19/100 - Loss: 0.2207 - Acc: 0.8729\n",
      " Val  - Loss: 0.2110 - Acc: 0.8976\n",
      "Epoch 20/100 - Loss: 0.2069 - Acc: 0.9092\n",
      " Val  - Loss: 0.1981 - Acc: 0.9036\n",
      "Epoch 21/100 - Loss: 0.2023 - Acc: 0.9092\n",
      " Val  - Loss: 0.2179 - Acc: 0.8735\n",
      "Epoch 22/100 - Loss: 0.1995 - Acc: 0.9047\n",
      " Val  - Loss: 0.1918 - Acc: 0.9277\n",
      "Epoch 23/100 - Loss: 0.1956 - Acc: 0.9062\n",
      " Val  - Loss: 0.1803 - Acc: 0.9518\n",
      "Epoch 24/100 - Loss: 0.1732 - Acc: 0.9395\n",
      " Val  - Loss: 0.1880 - Acc: 0.8795\n"
     ]
    }
   ],
   "source": [
    "\n",
    "\n",
    "\n",
    "\n",
    "\n",
    "\n",
    "\n",
    "# 5) Training Loop\n",
    "for epoch in range(num_epochs):\n",
    "    model.train()\n",
    "    train_loss, train_correct, train_total = 0.0, 0, 0\n",
    "    for images, labels in train_loader:\n",
    "        images, labels = images.to(device), labels.to(device)\n",
    "        optimizer.zero_grad()\n",
    "        outputs = model(images)\n",
    "        loss = criterion(outputs, labels)\n",
    "        loss.backward()\n",
    "        optimizer.step()\n",
    "\n",
    "        train_loss += loss.item() * images.size(0)\n",
    "        preds = (torch.sigmoid(outputs) > 0.5).float()\n",
    "        train_correct += (preds == labels).sum().item()\n",
    "        train_total += labels.size(0)\n",
    "\n",
    "    epoch_loss = train_loss / train_total\n",
    "    epoch_acc = train_correct / train_total\n",
    "    print(f\"Epoch {epoch+1}/{num_epochs} - Loss: {epoch_loss:.4f} - Acc: {epoch_acc:.4f}\")\n",
    "\n",
    "    # Validation\n",
    "    model.eval()\n",
    "    val_loss, val_correct, val_total = 0.0, 0, 0\n",
    "    with torch.no_grad():\n",
    "        for images, labels in val_loader:\n",
    "            images, labels = images.to(device), labels.to(device)\n",
    "            outputs = model(images)\n",
    "            loss = criterion(outputs, labels)\n",
    "\n",
    "            val_loss += loss.item() * images.size(0)\n",
    "            preds = (torch.sigmoid(outputs) > 0.5).float()\n",
    "            val_correct += (preds == labels).sum().item()\n",
    "            val_total += labels.size(0)\n",
    "\n",
    "    val_epoch_loss = val_loss / val_total\n",
    "    val_epoch_acc = val_correct / val_total\n",
    "    print(f\" Val  - Loss: {val_epoch_loss:.4f} - Acc: {val_epoch_acc:.4f}\")\n",
    "\n"
   ]
  },
  {
   "cell_type": "code",
   "execution_count": null,
   "id": "77ad05cb-9e47-4d17-a0ca-a4e33a096dbd",
   "metadata": {},
   "outputs": [],
   "source": []
  }
 ],
 "metadata": {
  "environment": {
   "kernel": "conda-base-py",
   "name": "workbench-notebooks.m129",
   "type": "gcloud",
   "uri": "us-docker.pkg.dev/deeplearning-platform-release/gcr.io/workbench-notebooks:m129"
  },
  "kernelspec": {
   "display_name": "Python 3 (ipykernel) (Local)",
   "language": "python",
   "name": "conda-base-py"
  },
  "language_info": {
   "codemirror_mode": {
    "name": "ipython",
    "version": 3
   },
   "file_extension": ".py",
   "mimetype": "text/x-python",
   "name": "python",
   "nbconvert_exporter": "python",
   "pygments_lexer": "ipython3",
   "version": "3.10.16"
  }
 },
 "nbformat": 4,
 "nbformat_minor": 5
}
