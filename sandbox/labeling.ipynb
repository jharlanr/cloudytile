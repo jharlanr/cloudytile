{
 "cells": [
  {
   "cell_type": "code",
   "execution_count": 11,
   "id": "af93ca64-685c-4ce6-96a6-0f0f7565875e",
   "metadata": {
    "tags": []
   },
   "outputs": [],
   "source": [
    "## ======= ##\n",
    "## IMPORTS ##\n",
    "## ======= ##\n",
    "import labelbox\n",
    "import json\n",
    "import pandas as pd\n",
    "\n"
   ]
  },
  {
   "cell_type": "code",
   "execution_count": 37,
   "id": "8a3bada0-b8c0-4c6a-8acb-87b7fc7f7705",
   "metadata": {
    "tags": []
   },
   "outputs": [],
   "source": [
    "## =================================== ##\n",
    "## IMPORT LABELS FROM LABELBOX VIA API ##\n",
    "## =================================== ##\n",
    "\n",
    "LB_API_KEY = ''\n",
    "client = labelbox.Client(api_key = LB_API_KEY)\n",
    "export_task = labelbox.ExportTask.get_task(client, \"cmapn9m37041i07xlcfjp0yvf\")\n",
    "export_json = [dr.json for dr in export_task.get_buffered_stream()]\n",
    "\n",
    "\n"
   ]
  },
  {
   "cell_type": "code",
   "execution_count": 45,
   "id": "cf83e1ee-790b-4268-b58c-a0b7f03a6d10",
   "metadata": {
    "tags": []
   },
   "outputs": [
    {
     "name": "stdout",
     "output_type": "stream",
     "text": [
      "                    filename lb_label  label_num\n",
      "0  tstack_2019cw_57_t152.png       no          0\n",
      "1  tstack_2019cw_57_t151.png      yes          1\n",
      "2  tstack_2019cw_57_t150.png       no          0\n",
      "3  tstack_2019cw_57_t149.png      yes          1\n",
      "4  tstack_2019cw_57_t148.png      yes          1\n"
     ]
    }
   ],
   "source": [
    "## ======================================= ##\n",
    "## CREATE DF WIH LABELS AND .png FILENAMES ##\n",
    "## ======================================= ##\n",
    "\n",
    "project_uid = \"cmapjzjp200td0704hly95bb8\"  # your real project UID\n",
    "\n",
    "rows = []\n",
    "for rec in export_json:\n",
    "    # 1) grab the PNG filename\n",
    "    filename = rec[\"data_row\"][\"external_id\"]\n",
    "    \n",
    "    # 2) loop over each label (usually a single entry in your case)\n",
    "    for lbl in rec[\"projects\"][project_uid][\"labels\"]:\n",
    "        # 3) loop over each classification answer\n",
    "        for cls in lbl[\"annotations\"][\"classifications\"]:\n",
    "            # pull out the yes/no\n",
    "            answer = cls[\"radio_answer\"][\"name\"]\n",
    "            rows.append({\n",
    "                \"filename\": filename,\n",
    "                \"lb_label\":    answer\n",
    "            })\n",
    "\n",
    "final_df = pd.DataFrame(rows)\n",
    "final_df['label_num'] = final_df['lb_label'].map({'no': 0, 'yes': 1})\n",
    "print(final_df.head())\n"
   ]
  },
  {
   "cell_type": "code",
   "execution_count": 46,
   "id": "948fb6f1-d879-47b8-868a-31a74881ae35",
   "metadata": {
    "tags": []
   },
   "outputs": [],
   "source": [
    "final_df.to_csv(\"/home/jupyter/repos/cloudytile/sandbox/labels.csv\", index=False)\n"
   ]
  },
  {
   "cell_type": "code",
   "execution_count": null,
   "id": "e6f9bd09-158a-4a92-84db-7f644d8a29f3",
   "metadata": {},
   "outputs": [],
   "source": []
  },
  {
   "cell_type": "code",
   "execution_count": null,
   "id": "c2a4d2cf-8cc4-413a-8fcd-17305622ebfc",
   "metadata": {},
   "outputs": [],
   "source": []
  }
 ],
 "metadata": {
  "environment": {
   "kernel": "conda-base-py",
   "name": "workbench-notebooks.m129",
   "type": "gcloud",
   "uri": "us-docker.pkg.dev/deeplearning-platform-release/gcr.io/workbench-notebooks:m129"
  },
  "kernelspec": {
   "display_name": "Python 3 (ipykernel) (Local)",
   "language": "python",
   "name": "conda-base-py"
  },
  "language_info": {
   "codemirror_mode": {
    "name": "ipython",
    "version": 3
   },
   "file_extension": ".py",
   "mimetype": "text/x-python",
   "name": "python",
   "nbconvert_exporter": "python",
   "pygments_lexer": "ipython3",
   "version": "3.10.16"
  }
 },
 "nbformat": 4,
 "nbformat_minor": 5
}
